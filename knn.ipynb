{
  "nbformat": 4,
  "nbformat_minor": 0,
  "metadata": {
    "colab": {
      "provenance": []
    },
    "kernelspec": {
      "name": "python3",
      "display_name": "Python 3"
    },
    "language_info": {
      "name": "python"
    }
  },
  "cells": [
    {
      "cell_type": "code",
      "execution_count": null,
      "metadata": {
        "id": "_bDnkyHhKQhM"
      },
      "outputs": [],
      "source": [
        "from sklearn.preprocessing import StandardScaler\n",
        "import matplotlib.pyplot as plt\n",
        "import pandas as pd\n",
        "from sklearn.neighbors import KNeighborsClassifier "
      ]
    },
    {
      "cell_type": "code",
      "source": [
        "dataset = pd.read_csv('sonar.csv')"
      ],
      "metadata": {
        "id": "im0nYTLZKx9V"
      },
      "execution_count": null,
      "outputs": []
    },
    {
      "cell_type": "code",
      "source": [
        "dataset.head()"
      ],
      "metadata": {
        "id": "d6kYfHVeK9Rr"
      },
      "execution_count": null,
      "outputs": []
    },
    {
      "cell_type": "code",
      "source": [
        "scaler = StandardScaler()"
      ],
      "metadata": {
        "id": "irAzcsU_K_sv"
      },
      "execution_count": null,
      "outputs": []
    },
    {
      "cell_type": "code",
      "source": [
        "scaler.fit(dataset.drop('R',axis=1))"
      ],
      "metadata": {
        "colab": {
          "base_uri": "https://localhost:8080/"
        },
        "id": "VM0zMt1tLDP2",
        "outputId": "7e688687-a136-478a-be64-3edf020ff7a5"
      },
      "execution_count": null,
      "outputs": [
        {
          "output_type": "execute_result",
          "data": {
            "text/plain": [
              "StandardScaler()"
            ]
          },
          "metadata": {},
          "execution_count": 14
        }
      ]
    },
    {
      "cell_type": "code",
      "source": [
        "scaled_data = scaler.transform(dataset.drop('R',axis=1))"
      ],
      "metadata": {
        "id": "T0y3oH6CLZoR"
      },
      "execution_count": null,
      "outputs": []
    },
    {
      "cell_type": "code",
      "source": [
        "scaled_data"
      ],
      "metadata": {
        "colab": {
          "base_uri": "https://localhost:8080/"
        },
        "id": "awgLi293ULt-",
        "outputId": "bcba5bd9-ec05-4be5-e041-11168f0222ff"
      },
      "execution_count": null,
      "outputs": [
        {
          "output_type": "execute_result",
          "data": {
            "text/plain": [
              "array([[ 0.70018948,  0.42042142,  1.0529498 , ..., -0.4709383 ,\n",
              "        -0.44268846, -0.42246083],\n",
              "       [-0.13089402,  0.59942737,  1.71912994, ...,  1.30656071,\n",
              "         0.25299833,  0.25405324],\n",
              "       [-0.83579208, -0.64754631,  0.48045125, ..., -0.54822087,\n",
              "        -0.63683361,  1.03005467],\n",
              "       ...,\n",
              "       [ 1.00042384,  0.15949749, -0.67235266, ...,  0.90469137,\n",
              "        -0.0382194 , -0.68112798],\n",
              "       [ 0.0475061 , -0.09535845,  0.13434985, ..., -0.00724291,\n",
              "        -0.70154866, -0.34287094],\n",
              "       [-0.13959647, -0.06501846, -0.78685237, ..., -0.67187297,\n",
              "        -0.2970796 ,  0.99025973]])"
            ]
          },
          "metadata": {},
          "execution_count": 36
        }
      ]
    },
    {
      "cell_type": "code",
      "source": [
        "new_dataset = pd.DataFrame(scaled_data,columns=dataset.columns[:-1])\n",
        "new_dataset"
      ],
      "metadata": {
        "id": "0Ko7zUfrUOZA"
      },
      "execution_count": null,
      "outputs": []
    },
    {
      "cell_type": "markdown",
      "source": [],
      "metadata": {
        "id": "mE1h5Ty_WkP_"
      }
    },
    {
      "cell_type": "code",
      "source": [
        "x=scaled_data\n",
        "y=dataset['R']"
      ],
      "metadata": {
        "id": "qRYsn30vL36e"
      },
      "execution_count": null,
      "outputs": []
    },
    {
      "cell_type": "code",
      "source": [
        "from sklearn.model_selection import train_test_split"
      ],
      "metadata": {
        "id": "TdZRia_eL-8z"
      },
      "execution_count": null,
      "outputs": []
    },
    {
      "cell_type": "code",
      "source": [
        "xtrain,xtest,ytrain,ytest = train_test_split(x,y,test_size=0.3,random_state=42)"
      ],
      "metadata": {
        "id": "B79hmB6dMJj2"
      },
      "execution_count": null,
      "outputs": []
    },
    {
      "cell_type": "code",
      "source": [
        "knn = KNeighborsClassifier(n_neighbors=2)"
      ],
      "metadata": {
        "id": "qXFwPd-pMV_5"
      },
      "execution_count": null,
      "outputs": []
    },
    {
      "cell_type": "code",
      "source": [
        "knn.fit(xtrain,ytrain)"
      ],
      "metadata": {
        "colab": {
          "base_uri": "https://localhost:8080/"
        },
        "id": "X9QMi-irMbh_",
        "outputId": "0d30f712-881f-4272-b5be-730cb70ee679"
      },
      "execution_count": null,
      "outputs": [
        {
          "output_type": "execute_result",
          "data": {
            "text/plain": [
              "KNeighborsClassifier(n_neighbors=2)"
            ]
          },
          "metadata": {},
          "execution_count": 22
        }
      ]
    },
    {
      "cell_type": "code",
      "source": [
        "ypred = knn.predict(xtest)"
      ],
      "metadata": {
        "id": "3LYRKPuyMf3L"
      },
      "execution_count": null,
      "outputs": []
    },
    {
      "cell_type": "code",
      "source": [
        "from sklearn.metrics import classification_report,confusion_matrix\n",
        "print(classification_report(ytest,ypred))\n",
        "print(confusion_matrix(ytest,ypred))"
      ],
      "metadata": {
        "colab": {
          "base_uri": "https://localhost:8080/"
        },
        "id": "RVVVVDNmMl3x",
        "outputId": "b7395b27-bc68-4e48-80fb-028e804b52a9"
      },
      "execution_count": null,
      "outputs": [
        {
          "output_type": "stream",
          "name": "stdout",
          "text": [
            "              precision    recall  f1-score   support\n",
            "\n",
            "           M       0.78      0.89      0.83        36\n",
            "           R       0.82      0.67      0.73        27\n",
            "\n",
            "    accuracy                           0.79        63\n",
            "   macro avg       0.80      0.78      0.78        63\n",
            "weighted avg       0.80      0.79      0.79        63\n",
            "\n",
            "[[32  4]\n",
            " [ 9 18]]\n"
          ]
        }
      ]
    },
    {
      "cell_type": "code",
      "source": [
        "error_rates = []\n",
        "import numpy as np\n",
        "for i in range(1,40):\n",
        "  Knn = KNeighborsClassifier(n_neighbors=i)\n",
        "  Knn.fit(xtrain,ytrain)\n",
        "  ypred = Knn.predict(xtest)\n",
        "  error_rates.append(np.mean(ypred!=ytest))"
      ],
      "metadata": {
        "id": "7DiaNtETM-MQ"
      },
      "execution_count": null,
      "outputs": []
    },
    {
      "cell_type": "code",
      "source": [
        "plt.figure()\n",
        "plt.xlabel(\"k value\")\n",
        "plt.ylabel(\"error_rates\")\n",
        "plt.plot(range(1,40),error_rates,color=\"blue\",linestyle=\"dashed\",marker=\"s\",markerfacecolor=\"red\" ,markersize=5)\n",
        "plt.show()"
      ],
      "metadata": {
        "colab": {
          "base_uri": "https://localhost:8080/",
          "height": 279
        },
        "id": "EdLu03K2NrXI",
        "outputId": "e7e0a163-7b77-4be1-cb87-25da7146363c"
      },
      "execution_count": null,
      "outputs": [
        {
          "output_type": "display_data",
          "data": {
            "text/plain": [
              "<Figure size 432x288 with 1 Axes>"
            ],
            "image/png": "[encoded data removed]"
          },
          "metadata": {
            "needs_background": "light"
          }
        }
      ]
    }
  ]
}